{
  "cells": [
    {
      "cell_type": "code",
      "source": [
        "import pyspark.sql.functions as sf"
      ],
      "outputs": [
        {
          "output_type": "display_data",
          "data": {
            "application/vnd.livy.statement-meta+json": {
              "spark_pool": "testSparkPool",
              "statement_id": 2,
              "statement_ids": [
                2
              ],
              "state": "finished",
              "livy_statement_state": "available",
              "spark_jobs": null,
              "session_id": "21",
              "normalized_state": "finished",
              "queued_time": "2024-10-23T18:21:26.6210238Z",
              "session_start_time": "2024-10-23T18:21:26.679688Z",
              "execution_start_time": "2024-10-23T18:25:09.3279651Z",
              "execution_finish_time": "2024-10-23T18:25:09.4952305Z",
              "parent_msg_id": "25ba98f1-f25f-4b0c-925e-4cca8d0a57da"
            },
            "text/plain": "StatementMeta(testSparkPool, 21, 2, Finished, Available, Finished)"
          },
          "metadata": {}
        }
      ],
      "execution_count": 1,
      "metadata": {
        "jupyter": {
          "source_hidden": false,
          "outputs_hidden": false
        },
        "nteract": {
          "transient": {
            "deleting": false
          }
        }
      }
    },
    {
      "cell_type": "markdown",
      "source": [
        "# Reading files from ADLS and saving them in the Hive Metastore\r\n",
        "\r\n",
        "Reading some csv files from an ADLS container and saving them in datframes"
      ],
      "metadata": {
        "nteract": {
          "transient": {
            "deleting": false
          }
        }
      }
    },
    {
      "cell_type": "code",
      "source": [
        "df_Cars = spark.read.csv(\"abfss://adf-example@teststorageaccount3414.dfs.core.windows.net/dbo_Cars.csv\", header = True)"
      ],
      "outputs": [
        {
          "output_type": "display_data",
          "data": {
            "application/vnd.livy.statement-meta+json": {
              "spark_pool": "testSparkPool",
              "statement_id": 3,
              "statement_ids": [
                3
              ],
              "state": "finished",
              "livy_statement_state": "available",
              "spark_jobs": null,
              "session_id": "21",
              "normalized_state": "finished",
              "queued_time": "2024-10-23T18:21:26.6226753Z",
              "session_start_time": null,
              "execution_start_time": "2024-10-23T18:25:09.647667Z",
              "execution_finish_time": "2024-10-23T18:25:26.7817353Z",
              "parent_msg_id": "83e1e10b-6a86-44e3-8720-0ed2a3e56b36"
            },
            "text/plain": "StatementMeta(testSparkPool, 21, 3, Finished, Available, Finished)"
          },
          "metadata": {}
        }
      ],
      "execution_count": 2,
      "metadata": {
        "jupyter": {
          "source_hidden": false,
          "outputs_hidden": false
        },
        "nteract": {
          "transient": {
            "deleting": false
          }
        }
      }
    },
    {
      "cell_type": "code",
      "source": [
        "df_Cars.show()"
      ],
      "outputs": [
        {
          "output_type": "display_data",
          "data": {
            "application/vnd.livy.statement-meta+json": {
              "spark_pool": "testSparkPool",
              "statement_id": 4,
              "statement_ids": [
                4
              ],
              "state": "finished",
              "livy_statement_state": "available",
              "spark_jobs": null,
              "session_id": "21",
              "normalized_state": "finished",
              "queued_time": "2024-10-23T18:21:26.6239295Z",
              "session_start_time": null,
              "execution_start_time": "2024-10-23T18:25:26.9192782Z",
              "execution_finish_time": "2024-10-23T18:25:33.7763474Z",
              "parent_msg_id": "432d5451-ac17-4885-bbd2-511e88b315fa"
            },
            "text/plain": "StatementMeta(testSparkPool, 21, 4, Finished, Available, Finished)"
          },
          "metadata": {}
        },
        {
          "output_type": "stream",
          "name": "stdout",
          "text": [
            "+---+-----+--------------------+------+\n| ID| Name|               Model|Length|\n+---+-----+--------------------+------+\n|  1|Acura|                 MDX|  4451|\n|  2|Acura|      RSX Type S 2dr|  2778|\n|  3|Acura|             TSX 4dr|  3230|\n|  4|Acura|              TL 4dr|  3575|\n|  5|Acura|          3.5 RL 4dr|  3880|\n|  6|Acura|3.5 RL w/Navigati...|  3893|\n|  7|Acura|NSX coupe 2dr man...|  3153|\n|  8| Audi|         A4 1.8T 4dr|  3252|\n|  9| Audi|A41.8T convertibl...|  3638|\n| 10| Audi|          A4 3.0 4dr|  3462|\n| 11| Audi|A4 3.0 Quattro 4d...|  3583|\n| 12| Audi|A4 3.0 Quattro 4d...|  3627|\n| 13| Audi|          A6 3.0 4dr|  3561|\n| 14| Audi|  A6 3.0 Quattro 4dr|  3880|\n| 15| Audi|A4 3.0 convertibl...|  3814|\n| 16| Audi|A4 3.0 Quattro co...|  4013|\n| 17| Audi|A6 2.7 Turbo Quat...|  3836|\n| 18| Audi|  A6 4.2 Quattro 4dr|  4024|\n| 19| Audi|    A8 L Quattro 4dr|  4399|\n| 20| Audi|      S4 Quattro 4dr|  3825|\n+---+-----+--------------------+------+\nonly showing top 20 rows\n\n"
          ]
        }
      ],
      "execution_count": 3,
      "metadata": {
        "jupyter": {
          "source_hidden": false,
          "outputs_hidden": false
        },
        "nteract": {
          "transient": {
            "deleting": false
          }
        }
      }
    },
    {
      "cell_type": "code",
      "source": [
        "df_countries = spark.read.csv(\"abfss://adf-example@teststorageaccount3414.dfs.core.windows.net/dbo_Countries.csv\", header='true')"
      ],
      "outputs": [
        {
          "output_type": "display_data",
          "data": {
            "application/vnd.livy.statement-meta+json": {
              "spark_pool": "testSparkPool",
              "statement_id": 5,
              "statement_ids": [
                5
              ],
              "state": "finished",
              "livy_statement_state": "available",
              "spark_jobs": null,
              "session_id": "21",
              "normalized_state": "finished",
              "queued_time": "2024-10-23T18:21:26.6254998Z",
              "session_start_time": null,
              "execution_start_time": "2024-10-23T18:25:33.9124825Z",
              "execution_finish_time": "2024-10-23T18:25:35.7498305Z",
              "parent_msg_id": "d948f3e1-c614-4631-b732-b47cabda5eb8"
            },
            "text/plain": "StatementMeta(testSparkPool, 21, 5, Finished, Available, Finished)"
          },
          "metadata": {}
        }
      ],
      "execution_count": 4,
      "metadata": {
        "jupyter": {
          "source_hidden": false,
          "outputs_hidden": false
        },
        "nteract": {
          "transient": {
            "deleting": false
          }
        }
      }
    },
    {
      "cell_type": "code",
      "source": [
        "df_countries.show()"
      ],
      "outputs": [
        {
          "output_type": "display_data",
          "data": {
            "application/vnd.livy.statement-meta+json": {
              "spark_pool": "testSparkPool",
              "statement_id": 6,
              "statement_ids": [
                6
              ],
              "state": "finished",
              "livy_statement_state": "available",
              "spark_jobs": null,
              "session_id": "21",
              "normalized_state": "finished",
              "queued_time": "2024-10-23T18:21:26.6278684Z",
              "session_start_time": null,
              "execution_start_time": "2024-10-23T18:25:35.8870358Z",
              "execution_finish_time": "2024-10-23T18:25:36.4232266Z",
              "parent_msg_id": "f5d1ebab-f9c6-46f2-afd2-a30834715460"
            },
            "text/plain": "StatementMeta(testSparkPool, 21, 6, Finished, Available, Finished)"
          },
          "metadata": {}
        },
        {
          "output_type": "stream",
          "name": "stdout",
          "text": [
            "+---+--------------+\n| ID|          Name|\n+---+--------------+\n|  1|     Australia|\n|  2|       Austria|\n|  3|        Brazil|\n|  4|        Canada|\n|  5|         China|\n|  6|Czech Republic|\n|  7|        France|\n|  8|       Germany|\n|  9|     Indonesia|\n| 10|        Israel|\n| 11|         Italy|\n| 12|         Japan|\n| 13|        Russia|\n| 14|      Slovenia|\n| 15|   Switzerland|\n| 16|United Kingdom|\n| 17| Unites States|\n+---+--------------+\n\n"
          ]
        }
      ],
      "execution_count": 5,
      "metadata": {
        "jupyter": {
          "source_hidden": false,
          "outputs_hidden": false
        },
        "nteract": {
          "transient": {
            "deleting": false
          }
        }
      }
    },
    {
      "cell_type": "markdown",
      "source": [
        "Creating a test DB and a test schema to save the dataframes in tables"
      ],
      "metadata": {
        "nteract": {
          "transient": {
            "deleting": false
          }
        }
      }
    },
    {
      "cell_type": "code",
      "source": [
        "spark.sql(\"CREATE DATABASE IF NOT EXISTS test_database\")"
      ],
      "outputs": [
        {
          "output_type": "display_data",
          "data": {
            "application/vnd.livy.statement-meta+json": {
              "spark_pool": "testSparkPool",
              "statement_id": 7,
              "statement_ids": [
                7
              ],
              "state": "finished",
              "livy_statement_state": "available",
              "spark_jobs": null,
              "session_id": "21",
              "normalized_state": "finished",
              "queued_time": "2024-10-23T18:21:26.6307387Z",
              "session_start_time": null,
              "execution_start_time": "2024-10-23T18:25:36.5570858Z",
              "execution_finish_time": "2024-10-23T18:25:51.3520044Z",
              "parent_msg_id": "8689e92a-376c-4d8a-90ac-1a48c4f17357"
            },
            "text/plain": "StatementMeta(testSparkPool, 21, 7, Finished, Available, Finished)"
          },
          "metadata": {}
        },
        {
          "output_type": "execute_result",
          "execution_count": 15,
          "data": {
            "text/plain": "DataFrame[]"
          },
          "metadata": {}
        }
      ],
      "execution_count": 6,
      "metadata": {
        "jupyter": {
          "source_hidden": false,
          "outputs_hidden": false
        },
        "nteract": {
          "transient": {
            "deleting": false
          }
        }
      }
    },
    {
      "cell_type": "code",
      "source": [
        "spark.sql(\"CREATE SCHEMA IF NOT EXISTS test_schema\")"
      ],
      "outputs": [
        {
          "output_type": "display_data",
          "data": {
            "application/vnd.livy.statement-meta+json": {
              "spark_pool": "testSparkPool",
              "statement_id": 8,
              "statement_ids": [
                8
              ],
              "state": "finished",
              "livy_statement_state": "available",
              "spark_jobs": null,
              "session_id": "21",
              "normalized_state": "finished",
              "queued_time": "2024-10-23T18:21:26.6335445Z",
              "session_start_time": null,
              "execution_start_time": "2024-10-23T18:25:51.4881786Z",
              "execution_finish_time": "2024-10-23T18:25:51.6349141Z",
              "parent_msg_id": "df613f0a-930b-42f8-a860-71cab940cf83"
            },
            "text/plain": "StatementMeta(testSparkPool, 21, 8, Finished, Available, Finished)"
          },
          "metadata": {}
        },
        {
          "output_type": "execute_result",
          "execution_count": 17,
          "data": {
            "text/plain": "DataFrame[]"
          },
          "metadata": {}
        }
      ],
      "execution_count": 7,
      "metadata": {
        "jupyter": {
          "source_hidden": false,
          "outputs_hidden": false
        },
        "nteract": {
          "transient": {
            "deleting": false
          }
        }
      }
    },
    {
      "cell_type": "code",
      "source": [
        "df_Cars.write.mode(\"overwrite\").saveAsTable(\"test_schema.cars_table\")\r\n",
        "df_countries.write.mode(\"overwrite\").saveAsTable(\"test_schema.countries_table\")"
      ],
      "outputs": [
        {
          "output_type": "display_data",
          "data": {
            "application/vnd.livy.statement-meta+json": {
              "spark_pool": "testSparkPool",
              "statement_id": 9,
              "statement_ids": [
                9
              ],
              "state": "finished",
              "livy_statement_state": "available",
              "spark_jobs": null,
              "session_id": "21",
              "normalized_state": "finished",
              "queued_time": "2024-10-23T18:21:26.6361604Z",
              "session_start_time": null,
              "execution_start_time": "2024-10-23T18:25:51.7698679Z",
              "execution_finish_time": "2024-10-23T18:26:02.3540013Z",
              "parent_msg_id": "99edeb02-7908-40e5-b9e6-ecbd2d37dae4"
            },
            "text/plain": "StatementMeta(testSparkPool, 21, 9, Finished, Available, Finished)"
          },
          "metadata": {}
        }
      ],
      "execution_count": 8,
      "metadata": {
        "jupyter": {
          "source_hidden": false,
          "outputs_hidden": false
        },
        "nteract": {
          "transient": {
            "deleting": false
          }
        }
      }
    },
    {
      "cell_type": "code",
      "source": [
        "spark.sql(\"SELECT * FROM test_schema.countries_table\").show()"
      ],
      "outputs": [
        {
          "output_type": "display_data",
          "data": {
            "application/vnd.livy.statement-meta+json": {
              "spark_pool": "testSparkPool",
              "statement_id": 10,
              "statement_ids": [
                10
              ],
              "state": "finished",
              "livy_statement_state": "available",
              "spark_jobs": null,
              "session_id": "21",
              "normalized_state": "finished",
              "queued_time": "2024-10-23T18:21:26.6384133Z",
              "session_start_time": null,
              "execution_start_time": "2024-10-23T18:26:02.4907699Z",
              "execution_finish_time": "2024-10-23T18:26:05.9936144Z",
              "parent_msg_id": "08a014e5-2541-436d-8218-076e7385cf9b"
            },
            "text/plain": "StatementMeta(testSparkPool, 21, 10, Finished, Available, Finished)"
          },
          "metadata": {}
        },
        {
          "output_type": "stream",
          "name": "stdout",
          "text": [
            "+---+--------------+\n| ID|          Name|\n+---+--------------+\n|  1|     Australia|\n|  2|       Austria|\n|  3|        Brazil|\n|  4|        Canada|\n|  5|         China|\n|  6|Czech Republic|\n|  7|        France|\n|  8|       Germany|\n|  9|     Indonesia|\n| 10|        Israel|\n| 11|         Italy|\n| 12|         Japan|\n| 13|        Russia|\n| 14|      Slovenia|\n| 15|   Switzerland|\n| 16|United Kingdom|\n| 17| Unites States|\n+---+--------------+\n\n"
          ]
        }
      ],
      "execution_count": 9,
      "metadata": {
        "jupyter": {
          "source_hidden": false,
          "outputs_hidden": false
        },
        "nteract": {
          "transient": {
            "deleting": false
          }
        }
      }
    },
    {
      "cell_type": "markdown",
      "source": [
        "Just checking that the tables work!"
      ],
      "metadata": {
        "nteract": {
          "transient": {
            "deleting": false
          }
        }
      }
    },
    {
      "cell_type": "code",
      "source": [
        "spark.sql(\"select * from test_schema.cars_table\").show()"
      ],
      "outputs": [
        {
          "output_type": "display_data",
          "data": {
            "application/vnd.livy.statement-meta+json": {
              "spark_pool": "testSparkPool",
              "statement_id": 11,
              "statement_ids": [
                11
              ],
              "state": "finished",
              "livy_statement_state": "available",
              "spark_jobs": null,
              "session_id": "21",
              "normalized_state": "finished",
              "queued_time": "2024-10-23T18:21:26.6406695Z",
              "session_start_time": null,
              "execution_start_time": "2024-10-23T18:26:06.140693Z",
              "execution_finish_time": "2024-10-23T18:26:07.221748Z",
              "parent_msg_id": "0453cd61-a248-4511-b3aa-a3d0c7115357"
            },
            "text/plain": "StatementMeta(testSparkPool, 21, 11, Finished, Available, Finished)"
          },
          "metadata": {}
        },
        {
          "output_type": "stream",
          "name": "stdout",
          "text": [
            "+---+-----+--------------------+------+\n| ID| Name|               Model|Length|\n+---+-----+--------------------+------+\n|  1|Acura|                 MDX|  4451|\n|  2|Acura|      RSX Type S 2dr|  2778|\n|  3|Acura|             TSX 4dr|  3230|\n|  4|Acura|              TL 4dr|  3575|\n|  5|Acura|          3.5 RL 4dr|  3880|\n|  6|Acura|3.5 RL w/Navigati...|  3893|\n|  7|Acura|NSX coupe 2dr man...|  3153|\n|  8| Audi|         A4 1.8T 4dr|  3252|\n|  9| Audi|A41.8T convertibl...|  3638|\n| 10| Audi|          A4 3.0 4dr|  3462|\n| 11| Audi|A4 3.0 Quattro 4d...|  3583|\n| 12| Audi|A4 3.0 Quattro 4d...|  3627|\n| 13| Audi|          A6 3.0 4dr|  3561|\n| 14| Audi|  A6 3.0 Quattro 4dr|  3880|\n| 15| Audi|A4 3.0 convertibl...|  3814|\n| 16| Audi|A4 3.0 Quattro co...|  4013|\n| 17| Audi|A6 2.7 Turbo Quat...|  3836|\n| 18| Audi|  A6 4.2 Quattro 4dr|  4024|\n| 19| Audi|    A8 L Quattro 4dr|  4399|\n| 20| Audi|      S4 Quattro 4dr|  3825|\n+---+-----+--------------------+------+\nonly showing top 20 rows\n\n"
          ]
        }
      ],
      "execution_count": 10,
      "metadata": {
        "jupyter": {
          "source_hidden": false,
          "outputs_hidden": false
        },
        "nteract": {
          "transient": {
            "deleting": false
          }
        }
      }
    },
    {
      "cell_type": "markdown",
      "source": [
        "Normal Hive metastore commands also works in Synapse Notebooks"
      ],
      "metadata": {
        "nteract": {
          "transient": {
            "deleting": false
          }
        }
      }
    },
    {
      "cell_type": "code",
      "source": [
        "spark.sql(\"show tables in test_schema\").show()"
      ],
      "outputs": [
        {
          "output_type": "display_data",
          "data": {
            "application/vnd.livy.statement-meta+json": {
              "spark_pool": "testSparkPool",
              "statement_id": 12,
              "statement_ids": [
                12
              ],
              "state": "finished",
              "livy_statement_state": "available",
              "spark_jobs": null,
              "session_id": "21",
              "normalized_state": "finished",
              "queued_time": "2024-10-23T18:21:26.6435666Z",
              "session_start_time": null,
              "execution_start_time": "2024-10-23T18:26:07.3642751Z",
              "execution_finish_time": "2024-10-23T18:26:08.4237173Z",
              "parent_msg_id": "d0d419db-4ff6-447d-8c0a-a4c3383f3457"
            },
            "text/plain": "StatementMeta(testSparkPool, 21, 12, Finished, Available, Finished)"
          },
          "metadata": {}
        },
        {
          "output_type": "stream",
          "name": "stdout",
          "text": [
            "+-----------+---------------+-----------+\n|  namespace|      tableName|isTemporary|\n+-----------+---------------+-----------+\n|test_schema|     test_table|      false|\n|test_schema|     cars_table|      false|\n|test_schema|countries_table|      false|\n+-----------+---------------+-----------+\n\n"
          ]
        }
      ],
      "execution_count": 11,
      "metadata": {
        "jupyter": {
          "source_hidden": false,
          "outputs_hidden": false
        },
        "nteract": {
          "transient": {
            "deleting": false
          }
        }
      }
    },
    {
      "cell_type": "markdown",
      "source": [
        "# Workgin with Azure Key Vault to retrieve secrets\r\n",
        "\r\n",
        "This interaction uses the mssparkutils library to get the secrets. Note that you first have to set up a linked service with the details of the Key Vault. \r\n",
        "\r\n",
        "Pretty important to note that the getSecret function has two different versions. One is called with only two parameters as follows: \r\n",
        "\r\n",
        "The first parameter is the name of the key vault and the second is the name of the secret. \r\n",
        "This will work with an interactive session but **it won't work when running the notebook from a pipeline**.\r\n",
        "\r\n",
        "mssparkutils.credentials.getSecret(\"databricksKeyVault0992\",\"SPSECRET\") \r\n",
        "\r\n",
        "The second of using the getSecret function is to use 3 parameters as follows. **This version will work both with the interactive session and with the job session when running the notebook from a pipeline.**\r\n",
        "\r\n",
        "mssparkutils.credentials.getSecret(\"databricksKeyVault0992\",\"SPSECRET\",\"key_vault_test_service\")"
      ],
      "metadata": {
        "nteract": {
          "transient": {
            "deleting": false
          }
        }
      }
    },
    {
      "cell_type": "code",
      "source": [
        "# getSecret(akvName, secret): returns AKV secret for a given akvName, secret key\r\n",
        "#letsee = mssparkutils.credentials.getSecret(\"databricksKeyVault0992\",\"SPSECRET\")\r\n",
        "letsee = mssparkutils.credentials.getSecret(\"databricksKeyVault0992\",\"SPSECRET\",\"key_vault_test_service\")"
      ],
      "outputs": [
        {
          "output_type": "display_data",
          "data": {
            "application/vnd.livy.statement-meta+json": {
              "spark_pool": "testSparkPool",
              "statement_id": 13,
              "statement_ids": [
                13
              ],
              "state": "finished",
              "livy_statement_state": "available",
              "spark_jobs": null,
              "session_id": "21",
              "normalized_state": "finished",
              "queued_time": "2024-10-23T18:21:26.6477098Z",
              "session_start_time": null,
              "execution_start_time": "2024-10-23T18:26:08.5558273Z",
              "execution_finish_time": "2024-10-23T18:26:10.4025279Z",
              "parent_msg_id": "666161a1-bfe3-4058-896b-271f354b5a48"
            },
            "text/plain": "StatementMeta(testSparkPool, 21, 13, Finished, Available, Finished)"
          },
          "metadata": {}
        }
      ],
      "execution_count": 12,
      "metadata": {
        "jupyter": {
          "source_hidden": false,
          "outputs_hidden": false
        },
        "nteract": {
          "transient": {
            "deleting": false
          }
        }
      }
    },
    {
      "cell_type": "markdown",
      "source": [
        "Although printing the secret also shows the string 'REDACTED' as in Databricks, the 'hack' to show the password by printing letter by letter is also present in synapse."
      ],
      "metadata": {
        "nteract": {
          "transient": {
            "deleting": false
          }
        }
      }
    },
    {
      "cell_type": "code",
      "source": [
        "print(letsee)"
      ],
      "outputs": [
        {
          "output_type": "display_data",
          "data": {
            "application/vnd.livy.statement-meta+json": {
              "spark_pool": "testSparkPool",
              "statement_id": 14,
              "statement_ids": [
                14
              ],
              "state": "finished",
              "livy_statement_state": "available",
              "spark_jobs": null,
              "session_id": "21",
              "normalized_state": "finished",
              "queued_time": "2024-10-23T18:21:26.6509645Z",
              "session_start_time": null,
              "execution_start_time": "2024-10-23T18:26:10.5427303Z",
              "execution_finish_time": "2024-10-23T18:26:10.7135809Z",
              "parent_msg_id": "4a45fe3b-9904-4dda-b31b-cb90150fd862"
            },
            "text/plain": "StatementMeta(testSparkPool, 21, 14, Finished, Available, Finished)"
          },
          "metadata": {}
        },
        {
          "output_type": "stream",
          "name": "stdout",
          "text": [
            "[REDACTED]\n"
          ]
        }
      ],
      "execution_count": 13,
      "metadata": {
        "jupyter": {
          "source_hidden": false,
          "outputs_hidden": false
        },
        "nteract": {
          "transient": {
            "deleting": false
          }
        }
      }
    },
    {
      "cell_type": "code",
      "source": [
        "for item in letsee:\r\n",
        "    print(item)"
      ],
      "outputs": [
        {
          "output_type": "display_data",
          "data": {
            "application/vnd.livy.statement-meta+json": {
              "spark_pool": "testSparkPool",
              "statement_id": 15,
              "statement_ids": [
                15
              ],
              "state": "finished",
              "livy_statement_state": "available",
              "spark_jobs": null,
              "session_id": "21",
              "normalized_state": "finished",
              "queued_time": "2024-10-23T18:21:26.6538226Z",
              "session_start_time": null,
              "execution_start_time": "2024-10-23T18:26:10.8517975Z",
              "execution_finish_time": "2024-10-23T18:26:11.0130387Z",
              "parent_msg_id": "5bcbde9c-de6f-4262-8eeb-3330faf6f4f8"
            },
            "text/plain": "StatementMeta(testSparkPool, 21, 15, Finished, Available, Finished)"
          },
          "metadata": {}
        },
        {
          "output_type": "stream",
          "name": "stdout",
          "text": [
            "E\n4\nM\n8\nQ\n~\n7\nI\nD\nQ\n7\nu\n6\nS\n0\nR\nI\n6\nc\ns\n5\n-\np\ns\nJ\nM\nu\n3\ns\n5\nf\nB\ns\n1\nA\nY\nv\nb\nC\ns\n"
          ]
        }
      ],
      "execution_count": 14,
      "metadata": {
        "jupyter": {
          "source_hidden": false,
          "outputs_hidden": false
        },
        "nteract": {
          "transient": {
            "deleting": false
          }
        }
      }
    },
    {
      "cell_type": "code",
      "source": [
        "mssparkutils.credentials.help()\r\n"
      ],
      "outputs": [
        {
          "output_type": "display_data",
          "data": {
            "application/vnd.livy.statement-meta+json": {
              "spark_pool": "testSparkPool",
              "statement_id": 16,
              "statement_ids": [
                16
              ],
              "state": "finished",
              "livy_statement_state": "available",
              "spark_jobs": null,
              "session_id": "21",
              "normalized_state": "finished",
              "queued_time": "2024-10-23T18:21:26.6561837Z",
              "session_start_time": null,
              "execution_start_time": "2024-10-23T18:26:11.1562425Z",
              "execution_finish_time": "2024-10-23T18:26:11.3257214Z",
              "parent_msg_id": "c28d76d6-e8e6-4c4d-bf9f-6f10adb5e2a1"
            },
            "text/plain": "StatementMeta(testSparkPool, 21, 16, Finished, Available, Finished)"
          },
          "metadata": {}
        },
        {
          "output_type": "stream",
          "name": "stdout",
          "text": [
            "getToken(audience, name): returns AAD token for a given audience, name (optional)\nisValidToken(token): returns true if token hasn't expired\ngetConnectionStringOrCreds(linkedService): returns connection string or credentials for linked service\ngetFullConnectionString(linkedService): returns full connection string with credentials\ngetPropertiesAll(linkedService): returns all the properties of a linked servicegetSPTokenWithCert(resource, authority, clientId, akvNameOrUri, certificateName): returns an access token for a service principal using a certificate stored in a AKV as the credential\ngetSPTokenWithCertLS(resource, authority, clientId, akvLinkedService, certificateName): returns an access token for a service principal using a certificate stored in a AKV linked service as the credential\ngetSecret(akvName, secret, linkedService): returns AKV secret for a given AKV linked service, akvName, secret key\ngetSecret(akvName, secret): returns AKV secret for a given akvName, secret key\ngetSecretWithLS(linkedService, secret): returns AKV secret for a given linked service, secret key\nputSecret(akvName, secretName, secretValue, linkedService): puts AKV secret for a given akvName, secretName\nputSecret(akvName, secretName, secretValue): puts AKV secret for a given akvName, secretName\nputSecretWithLS(linkedService, secretName, secretValue): puts AKV secret for a given linked service, secretName\n\n"
          ]
        }
      ],
      "execution_count": 15,
      "metadata": {
        "jupyter": {
          "source_hidden": false,
          "outputs_hidden": false
        },
        "nteract": {
          "transient": {
            "deleting": false
          }
        }
      }
    },
    {
      "cell_type": "markdown",
      "source": [
        "# Joins and spark execution plan\r\n",
        "Let's try a join!\r\n",
        "\r\n",
        "Note: the actual physical query plan can be seen by clicking on the \"Open Spark UI\" button at the bottom right of the cell. "
      ],
      "metadata": {
        "nteract": {
          "transient": {
            "deleting": false
          }
        }
      }
    },
    {
      "cell_type": "code",
      "source": [
        "spark.sql(\"select * from test_schema.cars_table ct left join test_schema.countries_table cot on ct.ID = cot.ID \").show()"
      ],
      "outputs": [
        {
          "output_type": "display_data",
          "data": {
            "application/vnd.livy.statement-meta+json": {
              "spark_pool": "testSparkPool",
              "statement_id": 17,
              "statement_ids": [
                17
              ],
              "state": "finished",
              "livy_statement_state": "available",
              "spark_jobs": null,
              "session_id": "21",
              "normalized_state": "finished",
              "queued_time": "2024-10-23T18:21:26.6593897Z",
              "session_start_time": null,
              "execution_start_time": "2024-10-23T18:26:11.4586336Z",
              "execution_finish_time": "2024-10-23T18:26:14.2390888Z",
              "parent_msg_id": "cf13d097-9da0-4c84-8550-081b6d1babab"
            },
            "text/plain": "StatementMeta(testSparkPool, 21, 17, Finished, Available, Finished)"
          },
          "metadata": {}
        },
        {
          "output_type": "stream",
          "name": "stdout",
          "text": [
            "+---+-----+--------------------+------+----+--------------+\n| ID| Name|               Model|Length|  ID|          Name|\n+---+-----+--------------------+------+----+--------------+\n|  1|Acura|                 MDX|  4451|   1|     Australia|\n|  2|Acura|      RSX Type S 2dr|  2778|   2|       Austria|\n|  3|Acura|             TSX 4dr|  3230|   3|        Brazil|\n|  4|Acura|              TL 4dr|  3575|   4|        Canada|\n|  5|Acura|          3.5 RL 4dr|  3880|   5|         China|\n|  6|Acura|3.5 RL w/Navigati...|  3893|   6|Czech Republic|\n|  7|Acura|NSX coupe 2dr man...|  3153|   7|        France|\n|  8| Audi|         A4 1.8T 4dr|  3252|   8|       Germany|\n|  9| Audi|A41.8T convertibl...|  3638|   9|     Indonesia|\n| 10| Audi|          A4 3.0 4dr|  3462|  10|        Israel|\n| 11| Audi|A4 3.0 Quattro 4d...|  3583|  11|         Italy|\n| 12| Audi|A4 3.0 Quattro 4d...|  3627|  12|         Japan|\n| 13| Audi|          A6 3.0 4dr|  3561|  13|        Russia|\n| 14| Audi|  A6 3.0 Quattro 4dr|  3880|  14|      Slovenia|\n| 15| Audi|A4 3.0 convertibl...|  3814|  15|   Switzerland|\n| 16| Audi|A4 3.0 Quattro co...|  4013|  16|United Kingdom|\n| 17| Audi|A6 2.7 Turbo Quat...|  3836|  17| Unites States|\n| 18| Audi|  A6 4.2 Quattro 4dr|  4024|null|          null|\n| 19| Audi|    A8 L Quattro 4dr|  4399|null|          null|\n| 20| Audi|      S4 Quattro 4dr|  3825|null|          null|\n+---+-----+--------------------+------+----+--------------+\nonly showing top 20 rows\n\n"
          ]
        }
      ],
      "execution_count": 16,
      "metadata": {
        "jupyter": {
          "source_hidden": false,
          "outputs_hidden": false
        },
        "nteract": {
          "transient": {
            "deleting": false
          }
        }
      }
    },
    {
      "cell_type": "markdown",
      "source": [
        "# Using the mssparkutils fs module to interact with file systems"
      ],
      "metadata": {
        "nteract": {
          "transient": {
            "deleting": false
          }
        }
      }
    },
    {
      "cell_type": "code",
      "source": [
        "mssparkutils.fs.ls(\"/Employees\")"
      ],
      "outputs": [
        {
          "output_type": "display_data",
          "data": {
            "application/vnd.livy.statement-meta+json": {
              "spark_pool": "testSparkPool",
              "statement_id": 18,
              "statement_ids": [
                18
              ],
              "state": "finished",
              "livy_statement_state": "available",
              "spark_jobs": null,
              "session_id": "21",
              "normalized_state": "finished",
              "queued_time": "2024-10-23T18:21:26.662667Z",
              "session_start_time": null,
              "execution_start_time": "2024-10-23T18:26:14.3837788Z",
              "execution_finish_time": "2024-10-23T18:26:14.5495689Z",
              "parent_msg_id": "d739ca08-d9a9-41b8-953a-f3936801edcc"
            },
            "text/plain": "StatementMeta(testSparkPool, 21, 18, Finished, Available, Finished)"
          },
          "metadata": {}
        },
        {
          "output_type": "execute_result",
          "execution_count": 37,
          "data": {
            "text/plain": "[FileInfo(path=abfss://test-container@teststorageaccount3414.dfs.core.windows.net/Employees/employees.csv, name=employees.csv, size=1072),\n FileInfo(path=abfss://test-container@teststorageaccount3414.dfs.core.windows.net/Employees/employees2.csv, name=employees2.csv, size=387)]"
          },
          "metadata": {}
        }
      ],
      "execution_count": 17,
      "metadata": {
        "jupyter": {
          "source_hidden": false,
          "outputs_hidden": false
        },
        "nteract": {
          "transient": {
            "deleting": false
          }
        }
      }
    },
    {
      "cell_type": "code",
      "source": [
        "mssparkutils.fs.ls(\"abfss://adf-example@teststorageaccount3414.dfs.core.windows.net/old_files\")"
      ],
      "outputs": [
        {
          "output_type": "display_data",
          "data": {
            "application/vnd.livy.statement-meta+json": {
              "spark_pool": "testSparkPool",
              "statement_id": 19,
              "statement_ids": [
                19
              ],
              "state": "finished",
              "livy_statement_state": "available",
              "spark_jobs": null,
              "session_id": "21",
              "normalized_state": "finished",
              "queued_time": "2024-10-23T18:21:26.6658337Z",
              "session_start_time": null,
              "execution_start_time": "2024-10-23T18:26:14.7041562Z",
              "execution_finish_time": "2024-10-23T18:26:14.862021Z",
              "parent_msg_id": "37fa99e0-3f55-4d82-bfd9-3cfed2fce6db"
            },
            "text/plain": "StatementMeta(testSparkPool, 21, 19, Finished, Available, Finished)"
          },
          "metadata": {}
        },
        {
          "output_type": "execute_result",
          "execution_count": 39,
          "data": {
            "text/plain": "[FileInfo(path=abfss://adf-example@teststorageaccount3414.dfs.core.windows.net/old_files/temi.py, name=temi.py, size=520)]"
          },
          "metadata": {}
        }
      ],
      "execution_count": 18,
      "metadata": {
        "jupyter": {
          "source_hidden": false,
          "outputs_hidden": false
        },
        "nteract": {
          "transient": {
            "deleting": false
          }
        }
      }
    },
    {
      "cell_type": "markdown",
      "source": [
        "# Running a notebook from another one\r\n",
        "\r\n",
        "Note that this way of executing another notebook will NOT return an output from the execution (unless you explicitely use the **exit** function in the called notebook but that can only return a string so no good for returning functions defined in another notebook)"
      ],
      "metadata": {
        "nteract": {
          "transient": {
            "deleting": false
          }
        }
      }
    },
    {
      "cell_type": "code",
      "source": [
        "mssparkutils.notebook.run(\"func_def_notebook\", 90)"
      ],
      "outputs": [
        {
          "output_type": "display_data",
          "data": {
            "application/vnd.livy.statement-meta+json": {
              "spark_pool": "testSparkPool",
              "statement_id": 20,
              "statement_ids": [
                20
              ],
              "state": "finished",
              "livy_statement_state": "available",
              "spark_jobs": null,
              "session_id": "21",
              "normalized_state": "finished",
              "queued_time": "2024-10-23T18:21:26.6690891Z",
              "session_start_time": null,
              "execution_start_time": "2024-10-23T18:26:14.9908126Z",
              "execution_finish_time": "2024-10-23T18:26:23.6139903Z",
              "parent_msg_id": "9f1dfda8-9717-4ad8-95c7-0e36d94dcde1"
            },
            "text/plain": "StatementMeta(testSparkPool, 21, 20, Finished, Available, Finished)"
          },
          "metadata": {}
        },
        {
          "output_type": "display_data",
          "data": {
            "application/vnd.synapse.mssparkutilsrun-result+json": {
              "run_id": "9fffcb96-7a94-45a8-bcac-9c0afb4d24c3",
              "in_pipeline": false,
              "notebook_name": "func_def_notebook",
              "snapshot_path": "/runNotebookApi/versions/1/run/9fffcb96-7a94-45a8-bcac-9c0afb4d24c3/snapshot",
              "error": null,
              "session_id": "21",
              "spark_pool": "testSparkPool",
              "capacity_id": null,
              "workspace_id": null,
              "root_artifact_id": null,
              "artifact_id": null,
              "snapshot_status": "success",
              "snapshot_error": null
            }
          },
          "metadata": {}
        },
        {
          "output_type": "execute_result",
          "execution_count": 41,
          "data": {
            "text/plain": "''"
          },
          "metadata": {}
        }
      ],
      "execution_count": 19,
      "metadata": {
        "jupyter": {
          "source_hidden": false,
          "outputs_hidden": false
        },
        "nteract": {
          "transient": {
            "deleting": false
          }
        }
      }
    },
    {
      "cell_type": "markdown",
      "source": [
        "## Installing a library at the session level\r\n",
        "\r\n",
        "Note that the library won't be persisted if the session is ended so you'll have to install it again."
      ],
      "metadata": {
        "nteract": {
          "transient": {
            "deleting": false
          }
        }
      }
    },
    {
      "cell_type": "code",
      "source": [
        "!pip install import-ipynb"
      ],
      "outputs": [
        {
          "output_type": "display_data",
          "data": {
            "application/vnd.livy.statement-meta+json": {
              "spark_pool": "testSparkPool",
              "statement_id": 21,
              "statement_ids": [
                21
              ],
              "state": "finished",
              "livy_statement_state": "available",
              "spark_jobs": null,
              "session_id": "21",
              "normalized_state": "finished",
              "queued_time": "2024-10-23T18:21:26.6723739Z",
              "session_start_time": null,
              "execution_start_time": "2024-10-23T18:26:23.7491479Z",
              "execution_finish_time": "2024-10-23T18:26:37.0681578Z",
              "parent_msg_id": "4a1be697-d627-48b0-8776-4a35ffa15aff"
            },
            "text/plain": "StatementMeta(testSparkPool, 21, 21, Finished, Available, Finished)"
          },
          "metadata": {}
        },
        {
          "output_type": "stream",
          "name": "stdout",
          "text": [
            "Collecting import-ipynb\n  Downloading import_ipynb-0.2-py3-none-any.whl (4.0 kB)\nRequirement already satisfied: IPython in /home/trusted-service-user/cluster-env/env/lib/python3.10/site-packages (from import-ipynb) (8.14.0)\nRequirement already satisfied: nbformat in /home/trusted-service-user/cluster-env/env/lib/python3.10/site-packages (from import-ipynb) (5.10.2)\nRequirement already satisfied: backcall in /home/trusted-service-user/cluster-env/env/lib/python3.10/site-packages (from IPython->import-ipynb) (0.2.0)\nRequirement already satisfied: decorator in /home/trusted-service-user/cluster-env/env/lib/python3.10/site-packages (from IPython->import-ipynb) (5.1.1)\nRequirement already satisfied: jedi>=0.16 in /home/trusted-service-user/cluster-env/env/lib/python3.10/site-packages (from IPython->import-ipynb) (0.19.1)\nRequirement already satisfied: matplotlib-inline in /home/trusted-service-user/cluster-env/env/lib/python3.10/site-packages (from IPython->import-ipynb) (0.1.6)\nRequirement already satisfied: pickleshare in /home/trusted-service-user/cluster-env/env/lib/python3.10/site-packages (from IPython->import-ipynb) (0.7.5)\nRequirement already satisfied: prompt-toolkit!=3.0.37,<3.1.0,>=3.0.30 in /home/trusted-service-user/cluster-env/env/lib/python3.10/site-packages (from IPython->import-ipynb) (3.0.42)\nRequirement already satisfied: pygments>=2.4.0 in /home/trusted-service-user/cluster-env/env/lib/python3.10/site-packages (from IPython->import-ipynb) (2.17.2)\nRequirement already satisfied: stack-data in /home/trusted-service-user/cluster-env/env/lib/python3.10/site-packages (from IPython->import-ipynb) (0.6.2)\nRequirement already satisfied: traitlets>=5 in /home/trusted-service-user/cluster-env/env/lib/python3.10/site-packages (from IPython->import-ipynb) (5.14.2)\nRequirement already satisfied: pexpect>4.3 in /home/trusted-service-user/cluster-env/env/lib/python3.10/site-packages (from IPython->import-ipynb) (4.9.0)\nRequirement already satisfied: fastjsonschema in /home/trusted-service-user/cluster-env/env/lib/python3.10/site-packages (from nbformat->import-ipynb) (2.19.1)\nRequirement already satisfied: jsonschema>=2.6 in /home/trusted-service-user/cluster-env/env/lib/python3.10/site-packages (from nbformat->import-ipynb) (4.21.1)\nRequirement already satisfied: jupyter-core in /home/trusted-service-user/cluster-env/env/lib/python3.10/site-packages (from nbformat->import-ipynb) (5.7.2)\nRequirement already satisfied: parso<0.9.0,>=0.8.3 in /home/trusted-service-user/cluster-env/env/lib/python3.10/site-packages (from jedi>=0.16->IPython->import-ipynb) (0.8.3)\nRequirement already satisfied: attrs>=22.2.0 in /home/trusted-service-user/cluster-env/env/lib/python3.10/site-packages (from jsonschema>=2.6->nbformat->import-ipynb) (23.2.0)\nRequirement already satisfied: jsonschema-specifications>=2023.03.6 in /home/trusted-service-user/cluster-env/env/lib/python3.10/site-packages (from jsonschema>=2.6->nbformat->import-ipynb) (2023.12.1)\nRequirement already satisfied: referencing>=0.28.4 in /home/trusted-service-user/cluster-env/env/lib/python3.10/site-packages (from jsonschema>=2.6->nbformat->import-ipynb) (0.33.0)\nRequirement already satisfied: rpds-py>=0.7.1 in /home/trusted-service-user/cluster-env/env/lib/python3.10/site-packages (from jsonschema>=2.6->nbformat->import-ipynb) (0.18.0)\nRequirement already satisfied: ptyprocess>=0.5 in /home/trusted-service-user/cluster-env/env/lib/python3.10/site-packages (from pexpect>4.3->IPython->import-ipynb) (0.7.0)\nRequirement already satisfied: wcwidth in /home/trusted-service-user/cluster-env/env/lib/python3.10/site-packages (from prompt-toolkit!=3.0.37,<3.1.0,>=3.0.30->IPython->import-ipynb) (0.2.13)\nRequirement already satisfied: platformdirs>=2.5 in /home/trusted-service-user/cluster-env/env/lib/python3.10/site-packages (from jupyter-core->nbformat->import-ipynb) (3.11.0)\nRequirement already satisfied: executing>=1.2.0 in /home/trusted-service-user/cluster-env/env/lib/python3.10/site-packages (from stack-data->IPython->import-ipynb) (2.0.1)\nRequirement already satisfied: asttokens>=2.1.0 in /home/trusted-service-user/cluster-env/env/lib/python3.10/site-packages (from stack-data->IPython->import-ipynb) (2.4.1)\nRequirement already satisfied: pure-eval in /home/trusted-service-user/cluster-env/env/lib/python3.10/site-packages (from stack-data->IPython->import-ipynb) (0.2.2)\nRequirement already satisfied: six>=1.12.0 in /home/trusted-service-user/cluster-env/env/lib/python3.10/site-packages (from asttokens>=2.1.0->stack-data->IPython->import-ipynb) (1.16.0)\nInstalling collected packages: import-ipynb\nSuccessfully installed import-ipynb-0.2\n"
          ]
        }
      ],
      "execution_count": 20,
      "metadata": {
        "jupyter": {
          "source_hidden": false,
          "outputs_hidden": false
        },
        "nteract": {
          "transient": {
            "deleting": false
          }
        }
      }
    },
    {
      "cell_type": "code",
      "source": [
        "import import_ipynb"
      ],
      "outputs": [
        {
          "output_type": "display_data",
          "data": {
            "application/vnd.livy.statement-meta+json": {
              "spark_pool": "testSparkPool",
              "statement_id": 22,
              "statement_ids": [
                22
              ],
              "state": "finished",
              "livy_statement_state": "available",
              "spark_jobs": null,
              "session_id": "21",
              "normalized_state": "finished",
              "queued_time": "2024-10-23T18:21:26.6742546Z",
              "session_start_time": null,
              "execution_start_time": "2024-10-23T18:26:37.2177405Z",
              "execution_finish_time": "2024-10-23T18:26:39.0485674Z",
              "parent_msg_id": "7ae00840-ba7b-49fa-ab9d-260ffd1ccaa6"
            },
            "text/plain": "StatementMeta(testSparkPool, 21, 22, Finished, Available, Finished)"
          },
          "metadata": {}
        }
      ],
      "execution_count": 21,
      "metadata": {
        "jupyter": {
          "source_hidden": false,
          "outputs_hidden": false
        },
        "nteract": {
          "transient": {
            "deleting": false
          }
        }
      }
    },
    {
      "cell_type": "markdown",
      "source": [
        "## Importing functions from another notebook using '%run'"
      ],
      "metadata": {
        "nteract": {
          "transient": {
            "deleting": false
          }
        }
      }
    },
    {
      "cell_type": "code",
      "source": [
        "%run /func_def_notebook"
      ],
      "outputs": [
        {
          "output_type": "display_data",
          "data": {
            "application/vnd.livy.statement-meta+json": {
              "spark_pool": "testSparkPool",
              "statement_id": 24,
              "statement_ids": [
                23,
                24
              ],
              "state": "finished",
              "livy_statement_state": "available",
              "spark_jobs": null,
              "session_id": "21",
              "normalized_state": "finished",
              "queued_time": "2024-10-23T18:21:26.6765681Z",
              "session_start_time": null,
              "execution_start_time": "2024-10-23T18:26:39.7911351Z",
              "execution_finish_time": "2024-10-23T18:26:39.7915375Z",
              "parent_msg_id": "32420f97-99f5-4d6b-a6b4-57efbbd20a5e"
            },
            "text/plain": "StatementMeta(testSparkPool, 21, 24, Finished, Available, Finished)"
          },
          "metadata": {}
        }
      ],
      "execution_count": 22,
      "metadata": {
        "jupyter": {
          "source_hidden": false,
          "outputs_hidden": false
        },
        "nteract": {
          "transient": {
            "deleting": false
          }
        }
      }
    },
    {
      "cell_type": "code",
      "source": [
        "print_my_name()"
      ],
      "outputs": [
        {
          "output_type": "display_data",
          "data": {
            "application/vnd.livy.statement-meta+json": {
              "spark_pool": "testSparkPool",
              "statement_id": 25,
              "statement_ids": [
                25
              ],
              "state": "finished",
              "livy_statement_state": "available",
              "spark_jobs": null,
              "session_id": "21",
              "normalized_state": "finished",
              "queued_time": "2024-10-23T18:21:26.6784848Z",
              "session_start_time": null,
              "execution_start_time": "2024-10-23T18:26:39.912386Z",
              "execution_finish_time": "2024-10-23T18:26:40.0634476Z",
              "parent_msg_id": "dfc78083-7012-4a50-80a5-6cbf54518d9c"
            },
            "text/plain": "StatementMeta(testSparkPool, 21, 25, Finished, Available, Finished)"
          },
          "metadata": {}
        },
        {
          "output_type": "stream",
          "name": "stdout",
          "text": [
            "José Antonio Duarte de Mendieta\n"
          ]
        }
      ],
      "execution_count": 23,
      "metadata": {
        "jupyter": {
          "source_hidden": false,
          "outputs_hidden": false
        },
        "nteract": {
          "transient": {
            "deleting": false
          }
        }
      }
    }
  ],
  "metadata": {
    "kernelspec": {
      "name": "synapse_pyspark",
      "language": "Python",
      "display_name": "Synapse PySpark"
    },
    "language_info": {
      "name": "python"
    },
    "kernel_info": {
      "name": "synapse_pyspark"
    },
    "save_output": true,
    "synapse_widget": {
      "version": "0.1",
      "state": {}
    }
  },
  "nbformat": 4,
  "nbformat_minor": 2
}